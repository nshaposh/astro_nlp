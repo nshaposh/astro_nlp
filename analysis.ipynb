{
 "cells": [
  {
   "cell_type": "code",
   "execution_count": null,
   "metadata": {},
   "outputs": [],
   "source": [
    "from utils import *\n",
    "import matplotlib.pyplot as plt\n",
    "import seaborn as sns\n",
    "import pandas as pd\n",
    "import numpy as np\n",
    "from sklearn.metrics import classification_report as clsr"
   ]
  },
  {
   "cell_type": "code",
   "execution_count": null,
   "metadata": {},
   "outputs": [],
   "source": [
    "from abstractcls import ABSClassifier"
   ]
  },
  {
   "cell_type": "code",
   "execution_count": null,
   "metadata": {},
   "outputs": [],
   "source": [
    "pubs_dict, all_abs = get_pubs_dict()"
   ]
  },
  {
   "cell_type": "code",
   "execution_count": null,
   "metadata": {},
   "outputs": [],
   "source": [
    "cls = ABSClassifier()"
   ]
  },
  {
   "cell_type": "code",
   "execution_count": null,
   "metadata": {},
   "outputs": [],
   "source": [
    "# dict to dataframe\n",
    "pubs_df = pd.DataFrame(pubs_dict).transpose()"
   ]
  },
  {
   "cell_type": "code",
   "execution_count": null,
   "metadata": {},
   "outputs": [],
   "source": [
    "# count journals and leave only those having more than 200 publications\n",
    "counts = pubs_df.groupby('journal').count()\n",
    "journals = counts[counts['abstract'] > 200].index.values"
   ]
  },
  {
   "cell_type": "code",
   "execution_count": null,
   "metadata": {},
   "outputs": [],
   "source": [
    "#sns bar plot number of abstract per journal \n",
    "\n",
    "df =counts[counts['abstract'] > 200].sort_values(by='abstract',ascending=False).reset_index()\n",
    "sns.set(style=\"whitegrid\")\n",
    "f, ax = plt.subplots(figsize=(7,7))\n",
    "sns.set_color_codes(\"pastel\")\n",
    "sns.barplot(x=\"abstract\", y=\"journal\", data=df, color=\"b\",)\n",
    "ax.set(xlim=(0, 3500), ylabel=\"\",xlabel=\"Total number of abstracts\")\n",
    "sns.despine(left=True, bottom=True)\n",
    "#ax.set_yticklabels(labels = ax.get_yticklabels(),   fontdict =  {\n",
    "#            'horizontalalignment': 'left'})\n",
    "#ax.axes.yaxis.set_zorder(-10.0)\n",
    "#ax.margin(100.0)\n",
    "ax.set_ylabel(\"Journal\")\n",
    "plt.savefig('number_by_journal.pdf',bbox_inches='tight',pad_inches=1.0)\n",
    "plt.show()"
   ]
  },
  {
   "cell_type": "code",
   "execution_count": null,
   "metadata": {},
   "outputs": [],
   "source": [
    "# select publication with valid abstracts\n",
    "pubs_select = pubs_df[np.isin(pubs_df['journal'],journals)]\n",
    "# get train date and labels\n",
    "X,y = pubs_select[\"abstract\"].values,pubs_select[\"journal\"].values"
   ]
  },
  {
   "cell_type": "code",
   "execution_count": null,
   "metadata": {},
   "outputs": [],
   "source": [
    "cls.fit(X,y)"
   ]
  },
  {
   "cell_type": "code",
   "execution_count": null,
   "metadata": {},
   "outputs": [],
   "source": [
    "val_dict, _ = get_pubs_dict(fnames = ['data/abstracts_2018_01.txt','data/abstracts_2018_02.txt','data/abstracts_2018_03.txt'])\n",
    "val_df = pd.DataFrame(val_dict).transpose()"
   ]
  },
  {
   "cell_type": "code",
   "execution_count": null,
   "metadata": {},
   "outputs": [],
   "source": [
    "val_select = val_df[(val_df['abstract'] != ('Not Available')) & (np.isin(val_df['journal'],journals))]"
   ]
  },
  {
   "cell_type": "code",
   "execution_count": null,
   "metadata": {},
   "outputs": [],
   "source": [
    "Xval = val_select['abstract'].values\n",
    "yval = val_select['journal'].values\n",
    "yval_pred = cls.model.predict(Xval)"
   ]
  },
  {
   "cell_type": "code",
   "execution_count": null,
   "metadata": {},
   "outputs": [],
   "source": [
    "classes_dict  = {}\n",
    "for i,cl in enumerate(cls.labels_.classes_): \n",
    "    classes_dict[cl] = i"
   ]
  },
  {
   "cell_type": "code",
   "execution_count": null,
   "metadata": {},
   "outputs": [],
   "source": [
    "yval_labels = [classes_dict[y] for y in yval] "
   ]
  },
  {
   "cell_type": "code",
   "execution_count": null,
   "metadata": {},
   "outputs": [],
   "source": [
    "print(clsr(yval_labels, yval_pred, target_names=cls.labels_.classes_))"
   ]
  },
  {
   "cell_type": "code",
   "execution_count": null,
   "metadata": {},
   "outputs": [],
   "source": []
  }
 ],
 "metadata": {
  "kernelspec": {
   "display_name": "Python 3",
   "language": "python",
   "name": "python3"
  },
  "language_info": {
   "codemirror_mode": {
    "name": "ipython",
    "version": 3
   },
   "file_extension": ".py",
   "mimetype": "text/x-python",
   "name": "python",
   "nbconvert_exporter": "python",
   "pygments_lexer": "ipython3",
   "version": "3.6.4"
  }
 },
 "nbformat": 4,
 "nbformat_minor": 2
}
