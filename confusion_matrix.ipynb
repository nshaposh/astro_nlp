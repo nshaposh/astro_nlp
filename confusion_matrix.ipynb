{
 "cells": [
  {
   "cell_type": "code",
   "execution_count": null,
   "metadata": {},
   "outputs": [],
   "source": [
    "import numpy as np\n",
    "from utils import *\n",
    "import matplotlib.pyplot as plt\n",
    "from sklearn.metrics import confusion_matrix"
   ]
  },
  {
   "cell_type": "code",
   "execution_count": null,
   "metadata": {},
   "outputs": [],
   "source": [
    "cm = np.array([[ 74,   6,   2,   0,   0,   1,   8,   2,   0,  17,   5,   0,   0,\n",
    "          0,  16,   0],\n",
    "       [  1, 258,   0,   0,   0,   0,   1,   2,   1,   0,  34,   0,   1,\n",
    "          1,  27,   0],\n",
    "       [  9,   5,   3,   3,   0,   1,   0,   0,   2,   5,  12,   0,   5,\n",
    "          0,  15,   1],\n",
    "       [  1,   0,   0,  71,   0,   0,   0,   0,   8,   0,   3,   0,  29,\n",
    "          0,   4,   0],\n",
    "       [  0,   0,   0,   0,  93,  34,  42,   4,   1,   0,   0,   0,   0,\n",
    "          0,   2,   0],\n",
    "       [  0,   1,   0,   0,   7, 143,   3,   1,   0,   0,   1,   0,   0,\n",
    "          0,   9,   0],\n",
    "       [  1,   0,   0,   0,   9,   2, 146,   2,   0,  29,   0,   0,   0,\n",
    "          0,   1,   0],\n",
    "       [  5,   6,   0,   0,   6,  13,  14,  73,   0,  10,  15,   0,   0,\n",
    "          2,   5,   1],\n",
    "       [  0,   1,   0,   6,   0,   0,   1,   0,  86,   0,  15,   0,  51,\n",
    "          0,   8,   0],\n",
    "       [  2,   0,   0,   0,   0,   0,  11,   0,   0, 100,   2,   0,   0,\n",
    "          0,   3,   0],\n",
    "       [  2,  47,   1,   0,   2,   3,   1,   3,   9,   5, 989,   0,  18,\n",
    "          9, 174,   9],\n",
    "       [  0,   3,   0,   0,   0,   0,   1,   0,   1,   0,  66,   0,   4,\n",
    "          2,  20,   3],\n",
    "       [  0,   0,   0,   5,   0,   0,   0,   0,  13,   0,   5,   0,  31,\n",
    "          0,   4,   1],\n",
    "       [  4,  17,   0,   0,   0,   0,   1,   2,   0,   0,  30,   0,   0,\n",
    "         46,  42,   0],\n",
    "       [  1,  37,   0,   1,   0,   6,   4,   5,   3,  11, 141,   0,  14,\n",
    "          4, 519,   6],\n",
    "       [  1,  12,   0,   0,   0,   1,   1,   4,   1,   5,  17,   0,   4,\n",
    "          6,  72,  26]])"
   ]
  },
  {
   "cell_type": "code",
   "execution_count": null,
   "metadata": {},
   "outputs": [],
   "source": [
    "journals = np.array(['Advances in Space Research', 'Astronomy & Astrophysics',\n",
    "       'Astrophysics and Space Science', 'Classical and Quantum Gravity',\n",
    "       'Earth and Planetary Science Letters',\n",
    "       'Geochimica et Cosmochimica Acta', 'Geophysical Research Letters',\n",
    "       'Icarus', 'Journal of Cosmology and Astroparticle Physics',\n",
    "       'Journal of Geophysical Research: Space Physics',\n",
    "       'Monthly Notices of the Royal Astronomical Society',\n",
    "       'Monthly Notices of the Royal Astronomical Society: Letters',\n",
    "       'Physical Review D', 'The Astronomical Journal',\n",
    "       'The Astrophysical Journal', 'The Astrophysical Journal Letters'], dtype=object)"
   ]
  },
  {
   "cell_type": "code",
   "execution_count": null,
   "metadata": {},
   "outputs": [],
   "source": [
    "plt.figure(figsize=(12,12))\n",
    "plot_confusion_matrix(cm,journals,max_val=300,cmap=plt.cm.Reds)\n",
    "plt.savefig('cm.pdf')\n",
    "plt.show()"
   ]
  },
  {
   "cell_type": "code",
   "execution_count": null,
   "metadata": {},
   "outputs": [],
   "source": []
  }
 ],
 "metadata": {
  "kernelspec": {
   "display_name": "Python 3",
   "language": "python",
   "name": "python3"
  },
  "language_info": {
   "codemirror_mode": {
    "name": "ipython",
    "version": 3
   },
   "file_extension": ".py",
   "mimetype": "text/x-python",
   "name": "python",
   "nbconvert_exporter": "python",
   "pygments_lexer": "ipython3",
   "version": "3.6.4"
  }
 },
 "nbformat": 4,
 "nbformat_minor": 2
}
